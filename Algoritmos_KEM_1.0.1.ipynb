{
 "cells": [
  {
   "cell_type": "markdown",
   "id": "eb7035ba-76f9-4b5c-860f-79b394f5a789",
   "metadata": {},
   "source": [
    "<p style=\"text-align: center;\"><span style=\"color: #ff0000;\"><strong><span style=\"font-size: x-large;\">\n",
    "    ANEXO XXX: ALGORITMOS PKE</span></strong></span></p>\n",
    "\n",
    "<p style=\"text-align: center;\"><span style=\"color: black;\"><strong><span style=\"font-size: x-large;\">Realizado por:</span></strong></span></p>\n",
    "<p style=\"text-align: center;\"><span style=\"color: black;\"><strong><span style=\"font-size: x-large;\">Gabriel Vacaro Goytia</span></strong></span></p>\n",
    "<p style=\"text-align: center;\"><span style=\"color: black;\"><strong><span style=\"font-size: x-large;\">Ignacio Warleta Murcia</span></strong></span></p>"
   ]
  },
  {
   "cell_type": "markdown",
   "id": "df62b8b8-8cce-4367-aa56-ce3b9477298b",
   "metadata": {},
   "source": [
    "Este notebook contiene una implementación de los algoritmos fundamentales del esquema de cifrado post–cuántico Kyber, en particular el KyberKEM (Key Encapsulation Mechanism). Kyber es un sistema criptográfico basado en el problema de Redes Lattice y es uno de los candidatos más destacados para ser parte del estándar de criptografía post-cuántica propuesto por el NIST.\n",
    "\n",
    "Organizamos el anexo según el siguiente índice:"
   ]
  },
  {
   "cell_type": "markdown",
   "id": "d7ec3796-72c9-4fb0-9d58-04688eebaab5",
   "metadata": {},
   "source": [
    "# Índice\n",
    "\n",
    "1. [Introducción](#1.-Introducción)\n",
    "2. [Configuración previa](#2.-Configuracion-previa)\n",
    "3. [Algoritmo de generacion de claves KEM](#3.-Algoritmo-de-generacion-de-claves-KEM)\n",
    "4. [Algoritmo de encapsulado](#4.-Algoritmo-de-encapsulado)\n",
    "5. [Algoritmo de desencapsulado](#5.-Algoritmo-de-desencapsulado)\n",
    "6. [Ejemplo de uso](#6.-Ejemplo-de-uso)"
   ]
  },
  {
   "cell_type": "markdown",
   "id": "85028d54-5473-42b5-965d-c7673c4d0a69",
   "metadata": {},
   "source": [
    "---\n",
    "# 1. Introducción\n",
    "\n",
    "\n",
    "\n",
    "\n"
   ]
  },
  {
   "cell_type": "markdown",
   "id": "8cf7f4ec-77dc-4c7f-899f-bced453cd063",
   "metadata": {},
   "source": [
    "Este notebook cuenta con los 3 algoritmos relativos al KEM de Kyber–KEM:\n",
    "\n",
    "- Generación de claves (Key Generation) <br>\n",
    "- Encapsulado (Encapsulation) <br>\n",
    "- Desencapsulado (Decapsulation) <br>\n",
    "\n",
    "El propósito de esta implementación es comprender los detalles detrás de cada fase del esquema Kyber–KEM de manera didáctica, con especial énfasis en los aspectos técnicos que permiten asegurar la privacidad y la integridad de la comunicación en un entorno potencialmente afectado por computadoras cuánticas. <br>\n"
   ]
  },
  {
   "cell_type": "markdown",
   "id": "31260c63-0d71-4dd1-9967-f6948f83a982",
   "metadata": {},
   "source": [
    "---\n",
    "# 2. Configuracion previa"
   ]
  },
  {
   "cell_type": "markdown",
   "id": "6d056542-08d0-4001-a8df-9220cb94de3b",
   "metadata": {},
   "source": [
    "A continuación, se muestra la configuración previa a ejecutar y los parámetros a definir. En este caso hemos optado por un primo $q$ relativamente pequeño, 743, dado su caracter didáctico, ya que, de esta manera se puede apreciar ligeramente el error que se produce al descifrar el mensaje. Por supuesto, el usuario es libre de cambiar este primo a su gusto y comprobar por su cuenta como se maneja el error. Además haremos uso de los algoritmos ya vistos relativos al PKE como son la generación de claves, el cifrado y descifrado. Cabe decir que se han realizado modificaciones al método implementado de cifrado para que sea capaz de soportar las semillas de mayor tamaño con las que trabajamos en encapsulación."
   ]
  },
  {
   "cell_type": "code",
   "execution_count": 1,
   "id": "8a0f89bb-5102-440a-9527-1765a28c11a2",
   "metadata": {},
   "outputs": [],
   "source": [
    "#MODULOS A IMPORTAR\n",
    "import numpy as np\n",
    "import hashlib"
   ]
  },
  {
   "cell_type": "code",
   "execution_count": 2,
   "id": "68c4d54a-c727-4964-b06b-43cde8a9ff22",
   "metadata": {},
   "outputs": [],
   "source": [
    "# Parámetros básicos\n",
    "q = 743  # Un número primo pequeño típico en Kyber podría ser 3329\n",
    "k = 3  # Tamaño del vector/matriz (varía según los estándares Kyber-512, 768, 1024)\n",
    "mu_1 = 1.0  # Parámetro para la distribución de error más controlado (menor desviación estándar)"
   ]
  },
  {
   "cell_type": "code",
   "execution_count": 3,
   "id": "4cb791a7-59c4-42c0-9cbb-25dd9e08aeec",
   "metadata": {},
   "outputs": [],
   "source": [
    "# Algoritmos PKE\n",
    "\n",
    "# Funciones auxiliares\n",
    "def generate_seed():\n",
    "    return np.random.bytes(16)\n",
    "\n",
    "def generate_matrix_A(seed, k, q):\n",
    "    np.random.seed(int.from_bytes(seed, \"big\") % (2**32))\n",
    "    return np.random.randint(0, q, size=(k, k))\n",
    "\n",
    "def sample_error(mu, k, q, seed=None):\n",
    "    if seed is not None:\n",
    "        state = np.random.get_state()\n",
    "        # Convertir a entero de 32 bits válido\n",
    "        seed = seed % (2**32)  # <--- Añade esta línea\n",
    "        np.random.seed(seed)\n",
    "    error = np.round(np.random.normal(0, mu, size=(k, 1))).astype(int) % q\n",
    "    if seed is not None:\n",
    "        np.random.set_state(state)\n",
    "    return error\n",
    "\n",
    "# Algoritmo 1: Generación de Claves G'\n",
    "def key_generation():\n",
    "    seed_A = generate_seed()\n",
    "    A = generate_matrix_A(seed_A, k, q)\n",
    "    s = sample_error(mu_1, k, q)\n",
    "    e = sample_error(mu_1, k, q)\n",
    "    b = (A @ s + e) % q\n",
    "    return (b, seed_A), s\n",
    "\n",
    "# Algoritmo 2: Cifrado modificado para usar semilla\n",
    "def encrypt(pk, m, seed=None):\n",
    "    b, seed_A = pk\n",
    "    if seed:\n",
    "        hash_output = hashlib.sha3_256(seed).digest()\n",
    "        r_seed = hash_output[:4]  # Usar solo 4 bytes (32 bits)\n",
    "        e1_seed = hash_output[4:8]\n",
    "        e2_seed = hash_output[8:12]\n",
    "        r = sample_error(mu_1, k, q, int.from_bytes(r_seed, 'big'))\n",
    "        e_1 = sample_error(mu_1, k, q, int.from_bytes(e1_seed, 'big'))\n",
    "        e_2 = sample_error(mu_1, k, q, int.from_bytes(e2_seed, 'big'))\n",
    "    else:\n",
    "        r = sample_error(mu_1, k, q)\n",
    "        e_1 = sample_error(mu_1, k, q)\n",
    "        e_2 = sample_error(mu_1, k, q)\n",
    "    \n",
    "    A = generate_matrix_A(seed_A, k, q)\n",
    "    A_T = A.T\n",
    "    u = (A_T @ r + e_1) % q\n",
    "    v = (b.T @ r + e_2 + m) % q\n",
    "    return (u, v), r, e_1, e_2\n",
    "\n",
    "# Algoritmo 3: Descifrado\n",
    "def decrypt(sk, c):\n",
    "    u, v = c\n",
    "    s = sk\n",
    "    return (v - (s.T @ u)) % q"
   ]
  },
  {
   "cell_type": "markdown",
   "id": "137d90d2-be0e-4947-9f8d-868d1cd6aaec",
   "metadata": {},
   "source": [
    "---\n",
    "# 3. Algoritmo de generacion de claves KEM"
   ]
  },
  {
   "cell_type": "markdown",
   "id": "9f91bfcc-aba6-4adc-8948-b2f7817063d3",
   "metadata": {},
   "source": [
    "1. **Generación del vector $z$:**  \n",
    "   Primeramente, generamos un vector $z$ de 256 bits aleatorios. Este valor se utiliza como «entropía» o «salto aleatorio» y es esencial para mantener la seguridad del sistema. Se usa en la clave secreta final $sk$, y la elección de 256 bits proporciona suficiente aleatoriedad para asegurar que la clave secreta sea impredecible.\n",
    "\n",
    "2. **Llamada al algoritmo de generación de claves $G'$:**  \n",
    "   En el siguiente paso, llamamos al algoritmo de generación de claves $G'$ descrito anteriormente. De este algoritmo, obtenemos la clave pública $pk$ y la clave secreta intermedia $sk'$, que solo se utilizará para generar la nueva clave secreta final $sk$.\n",
    "\n",
    "3. **Construcción de la clave secreta final $sk$:**  \n",
    "   En este paso, construimos la clave secreta final $sk$ concatenando varios componentes:  \n",
    "   - La clave secreta intermedia $sk'$.  \n",
    "   - La clave pública $pk$.  \n",
    "   - El resultado de aplicar una función hash $H$ sobre la clave pública, $H(pk)$.  \n",
    "   El propósito de aplicar la función hash sobre la clave pública es incluir un resumen de la misma en la clave secreta. Esto mejora la seguridad, ya que asegura que la clave secreta dependa de la clave pública, lo que ayuda a evitar ciertos tipos de ataques.\n",
    "\n",
    "4. **Concatenación final y devolución de claves:**  \n",
    "   Finalmente, concatenamos el vector $z$ y se devuelve la clave pública $pk$ junto con la clave secreta final $sk$.\n"
   ]
  },
  {
   "cell_type": "code",
   "execution_count": 4,
   "id": "1ea325ea-8ed2-47dd-8dd9-d2a210efe17e",
   "metadata": {},
   "outputs": [],
   "source": [
    "# Algoritmo 4: Generación de Claves KEM\n",
    "def key_gen_G():\n",
    "    z = np.random.bytes(32)\n",
    "    pk, sk_prime = key_generation()\n",
    "    b, seed_A = pk\n",
    "    sk_prime_bytes = sk_prime.tobytes()\n",
    "    pk_bytes = b.tobytes() + seed_A\n",
    "    H_pk = hashlib.sha3_256(pk_bytes).digest()\n",
    "    sk = sk_prime_bytes + pk_bytes + H_pk + z\n",
    "    return pk, sk"
   ]
  },
  {
   "cell_type": "markdown",
   "id": "febb8fa6-6adf-4a5b-bef2-bb4263d8e2cd",
   "metadata": {},
   "source": [
    "---\n",
    "# 4. Algoritmo de encapsulado"
   ]
  },
  {
   "cell_type": "markdown",
   "id": "bc1c24a2-3c16-4644-a8c7-2ae6ade5a459",
   "metadata": {},
   "source": [
    "1. **Generación del valor $m'$:**  \n",
    "   El primer paso del algoritmo de encapsulado consiste en generar un valor $m'$ de 256 bits aleatorios. Luego, en el siguiente paso, se produce un valor $m$ al aplicarle a $m'$ una función hash $H$.  \n",
    "   El propósito de este paso es generar una «clave derivada» a partir de los 256 bits aleatorios, pero con una forma adecuada para el cifrado, es decir, con una longitud estándar, lo cual se consigue gracias a la función hash $H$.\n",
    "\n",
    "2. **Construcción de la clave compartida $K ̅$ y valor $r$:**  \n",
    "   En el tercer paso, construimos una clave $K ̅$ y un valor $r$ concatenando $m$ y el hash de la clave pública, $H(pk)$.  \n",
    "   - $K ̅$ es una clave compartida que se utilizará para la comunicación posterior.  \n",
    "   - La concatenación de $m$ y $H(pk)$ garantiza que $K ̅$ dependa tanto del valor aleatorio inicial como de la clave pública del destinatario.  \n",
    "   Esto asegura que el proceso de cifrado sea seguro y dependiente de la clave pública.\n",
    "\n",
    "3. **Cifrado del mensaje ($c$):**  \n",
    "   En el siguiente paso, se realiza el cifrado utilizando la clave pública y los valores $m$ y $r$ como parámetros de entrada.  \n",
    "   El resultado de este paso es el mensaje cifrado $c$.\n",
    "\n",
    "4. **Derivación de la clave compartida final $K$:**  \n",
    "   Seguidamente, se realiza una función de derivación de claves (KDF, Key Derivation Function) para generar la clave compartida final $K$.  \n",
    "   - Primero, se concatenan la clave $K ̅$ generada en el paso 2 y el hash de $c$.  \n",
    "   - La función KDF toma esta concatenación y produce la clave derivada final $K$.  \n",
    "   El uso de KDF asegura que la clave derivada final $K$ tenga una longitud adecuada y sea segura para ser utilizada como una clave secreta compartida entre el emisor y el receptor.\n",
    "\n",
    "5. **Devolución de los resultados:**  \n",
    "   Finalmente, el algoritmo devuelve el mensaje cifrado $c$ y la clave compartida $K$.\n"
   ]
  },
  {
   "cell_type": "code",
   "execution_count": 6,
   "id": "904d95dc-aec2-4772-b1cf-4d18122eee18",
   "metadata": {},
   "outputs": [],
   "source": [
    "# Algoritmo 5: Encapsulado KEM\n",
    "def encapsulate(pk):\n",
    "    m_prime = np.random.bytes(32)\n",
    "    m = hashlib.sha3_256(m_prime).digest()\n",
    "    b, seed_A = pk\n",
    "    pk_bytes = b.tobytes() + seed_A\n",
    "    H_pk = hashlib.sha3_256(pk_bytes).digest()\n",
    "    m_Hpk = m + H_pk\n",
    "    K_bar = m_Hpk[:32]\n",
    "    r_seed = m_Hpk[32:36]  # 4 bytes para la semilla\n",
    "    \n",
    "    m_ints = [int.from_bytes(m[i*4:(i+1)*4], 'big') % q for i in range(k)]\n",
    "    m_vector = np.array(m_ints, dtype=int).reshape((k, 1))\n",
    "    \n",
    "    c, _, _, _ = encrypt(pk, m_vector, r_seed)\n",
    "    u, v = c\n",
    "    c_bytes = u.tobytes() + v.tobytes()\n",
    "    H_c = hashlib.sha3_256(c_bytes).digest()\n",
    "    K = hashlib.sha3_256(K_bar + H_c).digest()\n",
    "    return c, K"
   ]
  },
  {
   "cell_type": "markdown",
   "id": "2b9412d0-ff75-4400-8251-3af06d7d2a38",
   "metadata": {},
   "source": [
    "---\n",
    "# 5. Algoritmo de desencapsulado"
   ]
  },
  {
   "cell_type": "markdown",
   "id": "8efceb35-2e3f-417e-9d47-daff7465d787",
   "metadata": {},
   "source": [
    "El objetivo del desencapsulado es que el receptor recupere la clave compartida $K$ a partir de un mensaje cifrado $c$. Para ello, el receptor usa la clave secreta $sk$ y realiza una serie de pasos de verificación para asegurarse de que el mensaje cifrado no ha sido alterado.\n",
    "\n",
    "1. **Cálculo del valor $h$:**  \n",
    "   El receptor comienza calculando un valor $h$ a partir de su clave secreta $sk$.  \n",
    "   Este valor $h$ se deriva utilizando parámetros específicos como $k$ (tamaño de la matriz) y $n$ (número de dimensiones), además de una constante $+32$. Este valor $h$ se utilizará en el proceso de verificación del mensaje cifrado.\n",
    "\n",
    "2. **Cálculo del valor $z$:**  \n",
    "   Luego, se calcula el segundo valor, $z$, que también es una combinación de la clave secreta $sk$ y los parámetros $k$ y $n$, pero con la constante $+64$.  \n",
    "   Este valor $z$ es un valor intermedio que se utilizará en caso de que el mensaje cifrado haya sido alterado.\n",
    "\n",
    "3. **Descifrado del mensaje:**  \n",
    "   A continuación, el receptor utiliza su clave secreta $sk$ para descifrar el mensaje $c$ utilizando el algoritmo de descifrado $D(sk,c)$ (Algoritmo 3), obteniendo el mensaje $m ̃$.\n",
    "\n",
    "4. **Generación de la clave compartida $K ̅$ y valor $r'$:**  \n",
    "   Con el mensaje recuperado $m ̃$ y el valor $h$ calculado en el primer paso, el receptor genera una clave compartida $K ̅$ y un valor $r'$ mediante la función hash $G(m ̃||h)$.  \n",
    "   - $K ̅$ es la clave compartida generada a partir de $m ̃$ y $h$.  \n",
    "   - $r'$ es un valor adicional utilizado en el siguiente paso para garantizar la integridad.  \n",
    "   La función hash $G$ asegura que el proceso sea seguro y único. Debido a que $G$ es una función hash criptográfica, tanto $K ̅$ como $r'$ son determinísticos pero difíciles de predecir sin conocer $m ̃$ y $h$.\n",
    "\n",
    "5. **Generación del mensaje cifrado $c'$:**  \n",
    "   Después de obtener $K ̅$ y $r'$, el receptor genera un nuevo mensaje cifrado $c'$ utilizando la función de cifrado $E(pk, m ̃, r')$.\n",
    "\n",
    "6. **Comparación de los mensajes cifrados:**  \n",
    "   El receptor compara el mensaje cifrado $c'$ con el mensaje cifrado $c$ que recibió.  \n",
    "   - Si $c'$ es igual a $c$, significa que el proceso fue correcto y que $K ̅$ es la clave compartida correcta.  \n",
    "   - Si la verificación falla, el receptor utiliza el valor alternativo $z$ para generar la clave $K$ de forma diferente. Esta clave será totalmente inútil para un atacante.\n",
    "\n",
    "7. **Generación de la clave final $K$:**  \n",
    "   A continuación, el receptor genera la clave final $K$ mediante la función de derivación de claves (KDF).  \n",
    "   - Se concatena la clave derivada $K ̅$ con el valor hash $H(c)$ de $c$, lo que ayuda a asegurar la integridad y autenticidad del mensaje cifrado.\n",
    "\n",
    "Si la verificación fue exitosa, el receptor tendrá la clave final $K$, que se utilizará para la comunicación segura.\n"
   ]
  },
  {
   "cell_type": "code",
   "execution_count": 7,
   "id": "8e7b4ed6-aab4-4cf8-b7e8-807222f2a446",
   "metadata": {},
   "outputs": [],
   "source": [
    "# Algoritmo 6: Desencapsulado KEM\n",
    "def decapsulate(sk, c):\n",
    "    sk_prime_len = 4 * k\n",
    "    pk_len = 4*k + 16\n",
    "    h_start = sk_prime_len + pk_len\n",
    "    h = sk[h_start:h_start+32]\n",
    "    z = sk[h_start+32:h_start+64]\n",
    "    \n",
    "    s = np.frombuffer(sk[:sk_prime_len], dtype=np.int32).reshape((k,1))\n",
    "    pk = (np.frombuffer(sk[sk_prime_len:sk_prime_len+4*k], dtype=np.int32).reshape((k,1)), \n",
    "          sk[sk_prime_len+4*k:sk_prime_len+pk_len])\n",
    "    \n",
    "    m_tilde = decrypt(s, c)\n",
    "    m_tilde_bytes = m_tilde.tobytes()\n",
    "    m_tilde_h = m_tilde_bytes + h\n",
    "    G_output = hashlib.sha3_256(m_tilde_h).digest()\n",
    "    K_bar_prime = G_output[:32]\n",
    "    r_prime_seed = G_output[32:]\n",
    "    \n",
    "    c_prime, _, _, _ = encrypt(pk, m_tilde, r_prime_seed)\n",
    "    u, v = c\n",
    "    c_bytes = u.tobytes() + v.tobytes()\n",
    "    u_prime, v_prime = c_prime\n",
    "    c_prime_bytes = u_prime.tobytes() + v_prime.tobytes()\n",
    "    \n",
    "    H_c = hashlib.sha3_256(c_bytes).digest()\n",
    "    if c_bytes == c_prime_bytes:\n",
    "        return hashlib.sha3_256(K_bar_prime + H_c).digest()\n",
    "    else:\n",
    "        return hashlib.sha3_256(z + H_c).digest()"
   ]
  },
  {
   "cell_type": "markdown",
   "id": "7a03780f-2009-45aa-b48b-89fceae76b3f",
   "metadata": {},
   "source": [
    "---\n",
    "# 6. Ejemplo de uso"
   ]
  },
  {
   "cell_type": "markdown",
   "id": "69f7930c-b89a-4670-918b-a8fe969bb3d6",
   "metadata": {},
   "source": [
    "A continuación se muestra un ejemplo de uso utilizando los tres algoritmos:"
   ]
  },
  {
   "cell_type": "code",
   "execution_count": 13,
   "id": "fbc6381a-437b-4126-890e-3693cb43ed00",
   "metadata": {},
   "outputs": [
    {
     "name": "stdout",
     "output_type": "stream",
     "text": [
      "Clave encapsulada: 1bd0d04d4fc36f6cfa660644e6c3cf991d1281deec2869b0fbe898dd982245e9\n",
      "Clave desencapsulada: e9c72a63a3bd519e19d51d04802be4a70c5120e6a16ef8510d76d6fd2b7383d6\n",
      "Coinciden? False\n"
     ]
    }
   ],
   "source": [
    "# Ejemplo de uso\n",
    "if __name__ == \"__main__\":\n",
    "    # Generar claves KEM\n",
    "    pk, sk = key_gen_G()\n",
    "    \n",
    "    # Encapsular\n",
    "    ciphertext, K_encap = encapsulate(pk)\n",
    "    \n",
    "    # Desencapsular\n",
    "    K_decap = decapsulate(sk, ciphertext)\n",
    "    \n",
    "    print(\"Clave encapsulada:\", K_encap.hex())\n",
    "    print(\"Clave desencapsulada:\", K_decap.hex())\n",
    "    print(\"Coinciden?\", K_encap == K_decap)"
   ]
  },
  {
   "cell_type": "code",
   "execution_count": null,
   "id": "626decee-d9b2-47ae-801b-b57179a3eedc",
   "metadata": {},
   "outputs": [],
   "source": []
  }
 ],
 "metadata": {
  "kernelspec": {
   "display_name": "Python 3 (ipykernel)",
   "language": "python",
   "name": "python3"
  },
  "language_info": {
   "codemirror_mode": {
    "name": "ipython",
    "version": 3
   },
   "file_extension": ".py",
   "mimetype": "text/x-python",
   "name": "python",
   "nbconvert_exporter": "python",
   "pygments_lexer": "ipython3",
   "version": "3.12.7"
  }
 },
 "nbformat": 4,
 "nbformat_minor": 5
}
